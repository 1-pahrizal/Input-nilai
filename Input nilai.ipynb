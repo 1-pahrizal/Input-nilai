{
 "cells": [
  {
   "cell_type": "code",
   "execution_count": 1,
   "metadata": {},
   "outputs": [
    {
     "name": "stdout",
     "output_type": "stream",
     "text": [
      "*****************************************\n"
     ]
    },
    {
     "name": "stdin",
     "output_type": "stream",
     "text": [
      "Masukan NIS anda :  11806664\n",
      "Masukan Nama anda :  M Fadli Syauqi Ali\n",
      "Masukan JK anda :  L\n",
      "Rombel anda :  RPL X-1\n",
      "Rayon anda :  Wikrama 1\n",
      "Masukan nilai B.Indonesia :  75\n",
      "Masukan nilai B.Inggris :  75\n",
      "Masukan nilai Matematika :  75\n"
     ]
    },
    {
     "name": "stdout",
     "output_type": "stream",
     "text": [
      "*****************************************\n",
      "Laporan Nilai Akhir Semester\n",
      " SMK Wikrama Bogor\n",
      " ----- Data Diri -----\n",
      "Nis anda :  11806664\n",
      "Nama anda :  M Fadli Syauqi Ali\n",
      "JK anda :  L\n",
      "Rombel anda :  RPL X-1\n",
      "Rayon anda :  Wikrama 1\n",
      "--- Nilai ---\n",
      "Nilai B.indonesia :  75\n",
      "Nilai B.inggris :  75\n",
      "Nilai Matematika :  75\n",
      "Nilai rata2 anda :  75.0\n",
      "Kriteria Kelulusan : Lulus\n"
     ]
    }
   ],
   "source": [
    "print(\"*****************************************\")\n",
    "nis = int(input(\"Masukan NIS anda : \"))\n",
    "nama = input('Masukan Nama anda : ')\n",
    "jk = input(\"Masukan JK anda : \")\n",
    "rombel = input(\"Rombel anda : \")\n",
    "rayon = input(\"Rayon anda : \")\n",
    "bi = int(input('Masukan nilai B.Indonesia : '))\n",
    "big = int(input('Masukan nilai B.Inggris : '))\n",
    "mtk = int(input('Masukan nilai Matematika : '))\n",
    "\n",
    "print(\"*****************************************\")\n",
    "print(\"Laporan Nilai Akhir Semester\\n\",\"SMK Wikrama Bogor\\n\",\"----- Data Diri -----\")\n",
    "\n",
    "\n",
    "print(\"Nis anda : \",nis)\n",
    "print(\"Nama anda : \",nama)\n",
    "print(\"JK anda : \",jk)\n",
    "print(\"Rombel anda : \",rombel)\n",
    "print(\"Rayon anda : \",rayon)\n",
    "\n",
    "print(\"--- Nilai ---\")\n",
    "\n",
    "print(\"Nilai B.indonesia : \",bi)\n",
    "print(\"Nilai B.inggris : \",big)\n",
    "print(\"Nilai Matematika : \",mtk)\n",
    "\n",
    "rata = (bi+big+mtk)/3\n",
    "print('Nilai rata2 anda : ',rata)\n",
    "\n",
    "if rata >=75 : \n",
    "    print('Kriteria Kelulusan : Lulus')\n",
    "else:\n",
    "    print('Kriteria Kelulusan : Tidak Lulus')\n"
   ]
  },
  {
   "cell_type": "code",
   "execution_count": null,
   "metadata": {},
   "outputs": [],
   "source": []
  }
 ],
 "metadata": {
  "kernelspec": {
   "display_name": "Python 3",
   "language": "python",
   "name": "python3"
  },
  "language_info": {
   "codemirror_mode": {
    "name": "ipython",
    "version": 3
   },
   "file_extension": ".py",
   "mimetype": "text/x-python",
   "name": "python",
   "nbconvert_exporter": "python",
   "pygments_lexer": "ipython3",
   "version": "3.7.1"
  }
 },
 "nbformat": 4,
 "nbformat_minor": 2
}
